{
 "cells": [
  {
   "cell_type": "code",
   "execution_count": 52,
   "metadata": {
    "collapsed": true
   },
   "outputs": [],
   "source": [
    "import setuptools"
   ]
  },
  {
   "cell_type": "code",
   "execution_count": 53,
   "metadata": {
    "collapsed": true
   },
   "outputs": [],
   "source": [
    "from Binomial_MSM import MSM"
   ]
  },
  {
   "cell_type": "code",
   "execution_count": 55,
   "metadata": {},
   "outputs": [
    {
     "name": "stdout",
     "output_type": "stream",
     "text": [
      "Overwriting Binomial_MSM/MSM/setup.py\n"
     ]
    }
   ],
   "source": [
    "%%file Binomial_MSM/MSM/setup.py\n",
    "import setuptools \n",
    "\n",
    "setuptools.setup(name = \"MSM\",\n",
    "      version = \"1.0\",\n",
    "      author = 'Jan Tomoya Greve, Jaeyeon Lee',\n",
    "      author_email = 'jan.tomoya.greve@duke.edu, jaeyeon.lee@duke.edu',\n",
    "      url = 'https://github.com/JJcomb/663project',\n",
    "      py_modules = ['MSM'],\n",
    "      packages = setuptools.find_packages(),\n",
    "      scripts = ['run_sampledata.py'],\n",
    "      python_requires = '>=3',\n",
    "      license = 'MIT License',\n",
    "      package_data={'':['*.csv']},\n",
    "     )"
   ]
  },
  {
   "cell_type": "code",
   "execution_count": 56,
   "metadata": {},
   "outputs": [
    {
     "name": "stdout",
     "output_type": "stream",
     "text": [
      "running sdist\n",
      "running egg_info\n",
      "writing MSM.egg-info/PKG-INFO\n",
      "writing dependency_links to MSM.egg-info/dependency_links.txt\n",
      "writing top-level names to MSM.egg-info/top_level.txt\n",
      "reading manifest file 'MSM.egg-info/SOURCES.txt'\n",
      "writing manifest file 'MSM.egg-info/SOURCES.txt'\n",
      "running check\n",
      "creating MSM-1.0\n",
      "creating MSM-1.0/MSM.egg-info\n",
      "creating MSM-1.0/likelihood\n",
      "creating MSM-1.0/prediction\n",
      "creating MSM-1.0/starting_val\n",
      "copying files to MSM-1.0...\n",
      "copying MSM.py -> MSM-1.0\n",
      "copying README.txt -> MSM-1.0\n",
      "copying run_sampledata.py -> MSM-1.0\n",
      "copying setup.py -> MSM-1.0\n",
      "copying MSM.egg-info/PKG-INFO -> MSM-1.0/MSM.egg-info\n",
      "copying MSM.egg-info/SOURCES.txt -> MSM-1.0/MSM.egg-info\n",
      "copying MSM.egg-info/dependency_links.txt -> MSM-1.0/MSM.egg-info\n",
      "copying MSM.egg-info/top_level.txt -> MSM-1.0/MSM.egg-info\n",
      "copying likelihood/__init__.py -> MSM-1.0/likelihood\n",
      "copying likelihood/new.py -> MSM-1.0/likelihood\n",
      "copying likelihood/original.py -> MSM-1.0/likelihood\n",
      "copying likelihood/sharedfunc.py -> MSM-1.0/likelihood\n",
      "copying prediction/__init__.py -> MSM-1.0/prediction\n",
      "copying prediction/predict.py -> MSM-1.0/prediction\n",
      "copying starting_val/__init__.py -> MSM-1.0/starting_val\n",
      "copying starting_val/starting_val.py -> MSM-1.0/starting_val\n",
      "Writing MSM-1.0/setup.cfg\n",
      "Creating tar archive\n",
      "removing 'MSM-1.0' (and everything under it)\n",
      "/home/jan/Documents/663project\n"
     ]
    }
   ],
   "source": [
    "%%bash\n",
    "\n",
    "cd Binomial_MSM/MSM\n",
    "python setup.py sdist\n",
    "cd -"
   ]
  },
  {
   "cell_type": "code",
   "execution_count": 55,
   "metadata": {},
   "outputs": [
    {
     "name": "stdout",
     "output_type": "stream",
     "text": [
      "Microsoft Windows [Version 10.0.16299.371]\r\n",
      "(c) 2017 Microsoft Corporation. All rights reserved.\r\n",
      "\r\n",
      "C:\\Users\\jaeye\\Google Drive\\Duke Class\\2018_spring\\Computational Statistics\\663project>\n",
      "C:\\Users\\jaeye\\Google Drive\\Duke Class\\2018_spring\\Computational Statistics\\663project>cd Binomial_MSM/MSM\n",
      "\r\n",
      "C:\\Users\\jaeye\\Google Drive\\Duke Class\\2018_spring\\Computational Statistics\\663project\\Binomial_MSM\\MSM>python setup.py sdist\n",
      "running sdist\r\n",
      "running egg_info\r\n",
      "writing MSM.egg-info\\PKG-INFO\r\n",
      "writing dependency_links to MSM.egg-info\\dependency_links.txt\r\n",
      "writing top-level names to MSM.egg-info\\top_level.txt\r\n",
      "reading manifest file 'MSM.egg-info\\SOURCES.txt'\r\n",
      "writing manifest file 'MSM.egg-info\\SOURCES.txt'\r\n",
      "running check\r\n",
      "creating MSM-1.0\r\n",
      "creating MSM-1.0\\MSM.egg-info\r\n",
      "creating MSM-1.0\\likelihood\r\n",
      "creating MSM-1.0\\prediction\r\n",
      "creating MSM-1.0\\starting_val\r\n",
      "copying files to MSM-1.0...\r\n",
      "copying MSM.py -> MSM-1.0\r\n",
      "copying README.txt -> MSM-1.0\r\n",
      "copying run_sampledata.py -> MSM-1.0\r\n",
      "copying setup.py -> MSM-1.0\r\n",
      "copying MSM.egg-info\\PKG-INFO -> MSM-1.0\\MSM.egg-info\r\n",
      "copying MSM.egg-info\\SOURCES.txt -> MSM-1.0\\MSM.egg-info\r\n",
      "copying MSM.egg-info\\dependency_links.txt -> MSM-1.0\\MSM.egg-info\r\n",
      "copying MSM.egg-info\\top_level.txt -> MSM-1.0\\MSM.egg-info\r\n",
      "copying likelihood\\__init__.py -> MSM-1.0\\likelihood\r\n",
      "copying likelihood\\new.py -> MSM-1.0\\likelihood\r\n",
      "copying likelihood\\original.py -> MSM-1.0\\likelihood\r\n",
      "copying likelihood\\sharedfunc.py -> MSM-1.0\\likelihood\r\n",
      "copying prediction\\__init__.py -> MSM-1.0\\prediction\r\n",
      "copying prediction\\predict.py -> MSM-1.0\\prediction\r\n",
      "copying starting_val\\__init__.py -> MSM-1.0\\starting_val\r\n",
      "copying starting_val\\starting_val.py -> MSM-1.0\\starting_val\r\n",
      "Writing MSM-1.0\\setup.cfg\r\n",
      "Creating tar archive\r\n",
      "removing 'MSM-1.0' (and everything under it)\r\n",
      "\r\n",
      "C:\\Users\\jaeye\\Google Drive\\Duke Class\\2018_spring\\Computational Statistics\\663project\\Binomial_MSM\\MSM>"
     ]
    }
   ],
   "source": [
    "#%%cmd\n",
    "\n",
    "\n",
    "# for windows\n",
    "#cd Binomial_MSM/MSM\n",
    "#python setup.py sdist"
   ]
  },
  {
   "cell_type": "code",
   "execution_count": 57,
   "metadata": {},
   "outputs": [
    {
     "name": "stdout",
     "output_type": "stream",
     "text": [
      "Uploading distributions to https://test.pypi.org/legacy/\n",
      "Uploading MSM-1.0.tar.gz\n",
      "\r",
      "  0%|          | 0.00/8.74k [00:00<?, ?B/s]\r",
      " 91%|█████████▏| 8.00k/8.74k [00:00<00:00, 55.2kB/s]\r",
      "100%|██████████| 8.74k/8.74k [00:00<00:00, 15.7kB/s]\n"
     ]
    },
    {
     "name": "stderr",
     "output_type": "stream",
     "text": [
      "HTTPError: 400 Client Error: File already exists. See https://test.pypi.org/help/#file-name-reuse for url: https://test.pypi.org/legacy/\n"
     ]
    }
   ],
   "source": [
    "%%bash\n",
    "\n",
    "export TWINE_USERNAME='jantg'\n",
    "export TWINE_PASSWORD='Hokutoujouhaganken'\n",
    "twine upload --repository-url https://test.pypi.org/legacy/ Binomial_MSM/MSM/dist/*"
   ]
  },
  {
   "cell_type": "code",
   "execution_count": 60,
   "metadata": {},
   "outputs": [
    {
     "name": "stdout",
     "output_type": "stream",
     "text": [
      "Microsoft Windows [Version 10.0.16299.371]\r\n",
      "(c) 2017 Microsoft Corporation. All rights reserved.\r\n",
      "\r\n",
      "C:\\Users\\jaeye\\Google Drive\\Duke Class\\2018_spring\\Computational Statistics\\663project>\n",
      "C:\\Users\\jaeye\\Google Drive\\Duke Class\\2018_spring\\Computational Statistics\\663project>set TWINE_USER=\"jaeyeon\"\n",
      "\r\n",
      "C:\\Users\\jaeye\\Google Drive\\Duke Class\\2018_spring\\Computational Statistics\\663project>set TWINE_PASWORD='wodus123'\n",
      "\r\n",
      "C:\\Users\\jaeye\\Google Drive\\Duke Class\\2018_spring\\Computational Statistics\\663project>twine upload --repository-url https://test.pypi.org/legacy/ Binomial_MSM/MSM/dist/*\n",
      "Uploading distributions to https://test.pypi.org/legacy/\r\n",
      "Enter your username: \r\n",
      "C:\\Users\\jaeye\\Google Drive\\Duke Class\\2018_spring\\Computational Statistics\\663project>"
     ]
    },
    {
     "name": "stderr",
     "output_type": "stream",
     "text": [
      "EOFError: EOF when reading a line\r\n"
     ]
    }
   ],
   "source": [
    "#%%cmd\n",
    "## Use export in bash\n",
    "#set TWINE_USER=\"jaeyeon\"\n",
    "#set TWINE_PASWORD='wodus123'\n",
    "#twine upload --repository-url https://test.pypi.org/legacy/ Binomial_MSM/MSM/dist/*"
   ]
  },
  {
   "cell_type": "code",
   "execution_count": 61,
   "metadata": {},
   "outputs": [
    {
     "name": "stdout",
     "output_type": "stream",
     "text": [
      "Microsoft Windows [Version 10.0.16299.371]\r\n",
      "(c) 2017 Microsoft Corporation. All rights reserved.\r\n",
      "\r\n",
      "C:\\Users\\jaeye\\Google Drive\\Duke Class\\2018_spring\\Computational Statistics\\663project>pip install --index-url https://test.pypi.org/simple/ Binomial_MSM/MSM\n",
      "Looking in indexes: https://test.pypi.org/simple/\r\n",
      "Processing c:\\users\\jaeye\\google drive\\duke class\\2018_spring\\computational statistics\\663project\\binomial_msm\\msm\r\n",
      "Building wheels for collected packages: MSM\r\n",
      "  Running setup.py bdist_wheel for MSM: started\r\n",
      "  Running setup.py bdist_wheel for MSM: finished with status 'done'\r\n",
      "  Stored in directory: C:\\Users\\jaeye\\AppData\\Local\\Temp\\pip-ephem-wheel-cache-fyjn5kbg\\wheels\\60\\aa\\24\\53147e19ad605373e17b807ae5fcc0b3fade760112ec718365\r\n",
      "Successfully built MSM\r\n",
      "Installing collected packages: MSM\r\n",
      "  Found existing installation: MSM 1.0\r\n",
      "    Uninstalling MSM-1.0:\r\n",
      "      Successfully uninstalled MSM-1.0\r\n",
      "Successfully installed MSM-1.0\r\n",
      "\r\n",
      "C:\\Users\\jaeye\\Google Drive\\Duke Class\\2018_spring\\Computational Statistics\\663project>"
     ]
    }
   ],
   "source": [
    "#%%cmd\n",
    "#pip install --index-url https://test.pypi.org/simple/ Binomial_MSM/MSM"
   ]
  },
  {
   "cell_type": "code",
   "execution_count": 58,
   "metadata": {},
   "outputs": [
    {
     "name": "stdout",
     "output_type": "stream",
     "text": [
      "Looking in indexes: https://test.pypi.org/legacy/\n",
      "Processing ./Binomial_MSM/MSM\n",
      "Building wheels for collected packages: MSM\n",
      "  Running setup.py bdist_wheel for MSM: started\n",
      "  Running setup.py bdist_wheel for MSM: finished with status 'done'\n",
      "  Stored in directory: /tmp/pip-ephem-wheel-cache-momjqenw/wheels/4f/43/27/76999b05029616911ba8ed78bbfe93ba5b4a07f5492d715f21\n",
      "Successfully built MSM\n",
      "Installing collected packages: MSM\n",
      "Successfully installed MSM-1.0\n"
     ]
    },
    {
     "name": "stderr",
     "output_type": "stream",
     "text": [
      "tensorflow 1.4.0 requires enum34>=1.1.6, which is not installed.\n"
     ]
    }
   ],
   "source": [
    "%%bash\n",
    "\n",
    "pip install --index-url https://test.pypi.org/legacy/ Binomial_MSM/MSM"
   ]
  }
 ],
 "metadata": {
  "kernelspec": {
   "display_name": "Python [default]",
   "language": "python",
   "name": "python3"
  },
  "language_info": {
   "codemirror_mode": {
    "name": "ipython",
    "version": 3
   },
   "file_extension": ".py",
   "mimetype": "text/x-python",
   "name": "python",
   "nbconvert_exporter": "python",
   "pygments_lexer": "ipython3",
   "version": "3.5.5"
  }
 },
 "nbformat": 4,
 "nbformat_minor": 2
}
